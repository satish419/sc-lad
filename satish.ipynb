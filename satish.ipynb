{
  "metadata": {
    "kernelspec": {
      "name": "xpython",
      "display_name": "Python 3.13 (XPython)",
      "language": "python"
    },
    "language_info": {
      "file_extension": ".py",
      "mimetype": "text/x-python",
      "name": "python",
      "version": "3.13.1"
    }
  },
  "nbformat_minor": 5,
  "nbformat": 4,
  "cells": [
    {
      "id": "c4d7d053-a303-43e8-83f3-ec0f6544a8df",
      "cell_type": "code",
      "source": "a, b, c, d= 1, -3, 2, 4\nd = b**2 - 4*a*c\nif d >= 0:\n    r1 = (-b + d**0.5)/(2*a)\n    r2 = (-b - d**0.5)/(2*a)\n    r3 = (-b + d**0.5)/(2*a)\n    print(r1, r2, r3)\nelse:\n    print(\"No real roots\")\n\n",
      "metadata": {
        "trusted": true
      },
      "outputs": [
        {
          "name": "stdout",
          "output_type": "stream",
          "text": "2.0 1.0 2.0\n"
        }
      ],
      "execution_count": 2
    },
    {
      "id": "485ecbe7-1e2b-4167-a8ff-4cf23f5a9a28",
      "cell_type": "code",
      "source": "",
      "metadata": {
        "trusted": true
      },
      "outputs": [],
      "execution_count": null
    }
  ]
}